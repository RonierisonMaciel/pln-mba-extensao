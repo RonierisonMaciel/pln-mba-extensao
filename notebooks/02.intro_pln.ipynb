{
  "cells": [
    {
      "cell_type": "markdown",
      "metadata": {},
      "source": [
        "# Aula 02 – Introdução ao PLN"
      ]
    },
    {
      "cell_type": "markdown",
      "metadata": {
        "id": "l4N0fDGdAC2V"
      },
      "source": [
        "## Instalação de bibliotecas"
      ]
    },
    {
      "cell_type": "code",
      "execution_count": null,
      "metadata": {
        "colab": {
          "base_uri": "https://localhost:8080/"
        },
        "collapsed": true,
        "id": "LdG-KynQAEQ7",
        "outputId": "80b040e0-4e00-42db-d6a1-9ff4385650ac"
      },
      "outputs": [],
      "source": [
        "%pip install -U spacy scikit-learn gensim"
      ]
    },
    {
      "cell_type": "code",
      "execution_count": null,
      "metadata": {
        "colab": {
          "base_uri": "https://localhost:8080/"
        },
        "collapsed": true,
        "id": "xlZdtm9PAJLs",
        "outputId": "23fcff19-64eb-4071-995b-92c445fd0cde"
      },
      "outputs": [],
      "source": [
        "!python -m spacy download pt_core_news_sm"
      ]
    },
    {
      "cell_type": "markdown",
      "metadata": {
        "id": "vw5gN4LcAMD0"
      },
      "source": [
        "## Pré-processamento com spaCy"
      ]
    },
    {
      "cell_type": "code",
      "execution_count": null,
      "metadata": {
        "colab": {
          "base_uri": "https://localhost:8080/"
        },
        "id": "ShVbDaRdARgZ",
        "outputId": "7db7bed1-0a2c-4170-d8af-444d47f549d1"
      },
      "outputs": [],
      "source": [
        "import spacy\n",
        "\n",
        "# Carregando modelo de português\n",
        "nlp = spacy.load(\"pt_core_news_sm\")\n",
        "\n",
        "texto = \"O café nos permite desenvolver script e obter conhecimentos computacionais.\"\n",
        "doc = nlp(texto)\n",
        "\n",
        "for token in doc:\n",
        "    print(f\"{token.text:<12} | {token.lemma_:<12} | {token.pos_:<10}\")"
      ]
    },
    {
      "cell_type": "markdown",
      "metadata": {
        "id": "cOIC64TXAUiT"
      },
      "source": [
        "## Bag of Words (BoW)\n",
        "\n",
        "\n",
        "O modelo BoW transforma um texto em uma matriz de ocorrência de palavras.\n",
        "Vamos usar `CountVectorizer` para aplicar BoW em um corpus simples."
      ]
    },
    {
      "cell_type": "code",
      "execution_count": null,
      "metadata": {
        "colab": {
          "base_uri": "https://localhost:8080/"
        },
        "id": "IvnWPAe_Aa7A",
        "outputId": "be22d606-8be4-4685-d1c9-5dc38203b521"
      },
      "outputs": [],
      "source": [
        "from sklearn.feature_extraction.text import CountVectorizer\n",
        "\n",
        "corpus = [\"gosto de Café\", \"Café é legal\"]\n",
        "vectorizer = CountVectorizer()\n",
        "X = vectorizer.fit_transform(corpus)\n",
        "\n",
        "print(\"Vocabulário:\", vectorizer.get_feature_names_out())\n",
        "print(\"Matriz BoW:\\n\", X.toarray())"
      ]
    },
    {
      "cell_type": "markdown",
      "metadata": {
        "id": "MKNn3aFnAeSl"
      },
      "source": [
        "## TF-IDF\n",
        "\n",
        "O TF-IDF calcula a importância de cada palavra no documento levando em conta sua frequência inversa no corpus."
      ]
    },
    {
      "cell_type": "code",
      "execution_count": null,
      "metadata": {
        "colab": {
          "base_uri": "https://localhost:8080/"
        },
        "id": "35a_E7-VAh9U",
        "outputId": "e73c6156-5b99-4eff-c910-5e58956e7ba3"
      },
      "outputs": [],
      "source": [
        "from sklearn.feature_extraction.text import TfidfVectorizer\n",
        "\n",
        "vectorizer = TfidfVectorizer()\n",
        "X = vectorizer.fit_transform(corpus)\n",
        "\n",
        "print(\"Vocabulário:\", vectorizer.get_feature_names_out())\n",
        "print(\"Matriz TF-IDF:\\n\", X.toarray())"
      ]
    },
    {
      "cell_type": "markdown",
      "metadata": {
        "id": "9uraa3eGAoDa"
      },
      "source": [
        "## Word Embeddings – Word2Vec\n",
        "\n",
        "Word2Vec aprende a representação semântica das palavras com base em seus contextos.\n",
        "\n",
        "Aqui usamos um corpus simples para ilustrar."
      ]
    },
    {
      "cell_type": "code",
      "execution_count": null,
      "metadata": {
        "colab": {
          "base_uri": "https://localhost:8080/"
        },
        "id": "gyGsqCJTAvFc",
        "outputId": "0d939918-8f4b-4ba6-9f7e-2ad7a17996b6"
      },
      "outputs": [],
      "source": [
        "from gensim.models import Word2Vec\n",
        "\n",
        "frases = [[\"Café\", \"é\", \"legal\"], [\"texto\", \"vetorial\", \"modelo\"]]\n",
        "model = Word2Vec(sentences=frases, vector_size=10, min_count=1)\n",
        "\n",
        "print(\"Vetor de 'Café':\\n\", model.wv[\"Café\"])\n",
        "print(\"Palavras similares a 'Café':\\n\", model.wv.most_similar(\"Café\"))\n",
        "print(\"Similaridade entre 'Café' e 'legal':\", model.wv.similarity(\"Café\", \"legal\"))"
      ]
    },
    {
      "cell_type": "markdown",
      "metadata": {
        "id": "9TZ2konVA0_h"
      },
      "source": [
        "## LDA – Modelagem de Tópicos\n",
        "\n",
        "LDA (Latent Dirichlet Allocation) é um método de modelagem de tópicos que identifica temas ocultos nos documentos."
      ]
    },
    {
      "cell_type": "code",
      "execution_count": null,
      "metadata": {
        "colab": {
          "base_uri": "https://localhost:8080/"
        },
        "id": "6pdnd0vuA5Og",
        "outputId": "cf13d11e-d5f0-4117-d616-991027a139af"
      },
      "outputs": [],
      "source": [
        "from gensim import corpora, models\n",
        "\n",
        "docs = [[\"inteligência\", \"computacional\"], [\"Café\", \"texto\", \"dados\"]]\n",
        "dicionario = corpora.Dictionary(docs)\n",
        "corpus = [dicionario.doc2bow(doc) for doc in docs]\n",
        "\n",
        "lda = models.LdaModel(corpus, num_topics=2, id2word=dicionario, passes=10, iterations=50)\n",
        "for idx, topic in lda.print_topics():\n",
        "    print(f\"Tópico {idx}: {topic}\")"
      ]
    },
    {
      "cell_type": "markdown",
      "metadata": {
        "id": "2fTUzje0A_vk"
      },
      "source": [
        "## Qual usar?\n",
        "\n",
        "\n",
        "- Use **BoW** quando quiser simplicidade e velocidade\n",
        "- Use **TF-IDF** quando palavras comuns atrapalharem seu modelo\n",
        "- Use **Word2Vec** quando o significado e semântica forem importantes\n",
        "- Use **LDA** quando quiser identificar temas em muitos documentos\n",
        "\n",
        "Cada técnica tem seus usos, vantagens e limitações."
      ]
    }
  ],
  "metadata": {
    "colab": {
      "provenance": []
    },
    "kernelspec": {
      "display_name": "Python 3",
      "name": "python3"
    },
    "language_info": {
      "name": "python"
    }
  },
  "nbformat": 4,
  "nbformat_minor": 0
}
