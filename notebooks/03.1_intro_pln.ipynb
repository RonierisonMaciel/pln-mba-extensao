{
  "nbformat": 4,
  "nbformat_minor": 0,
  "metadata": {
    "colab": {
      "provenance": []
    },
    "kernelspec": {
      "name": "python3",
      "display_name": "Python 3"
    },
    "language_info": {
      "name": "python"
    }
  },
  "cells": [
    {
      "cell_type": "markdown",
      "source": [
        "# BERT\n",
        "\n",
        "> Modelo BERT simplificado"
      ],
      "metadata": {
        "id": "zk8eI5GXB3_j"
      }
    },
    {
      "cell_type": "code",
      "execution_count": 7,
      "metadata": {
        "colab": {
          "base_uri": "https://localhost:8080/"
        },
        "id": "UGmfrgMc81rz",
        "outputId": "1c215c59-4306-4ae6-9832-231166600e9f"
      },
      "outputs": [
        {
          "output_type": "stream",
          "name": "stdout",
          "text": [
            "Mascarada: O aluno foi à [MASK] para estudar\n",
            "Predição: biblioteca\n",
            "Final: O aluno foi à biblioteca para estudar\n"
          ]
        }
      ],
      "source": [
        "# Criação do contexto inicial\n",
        "frase_mascarada = [\"O\", \"aluno\", \"foi\", \"à\", \"[MASK]\", \"para\", \"estudar\"]\n",
        "\n",
        "candidatos = {\n",
        "    'biblioteca': 0.85,\n",
        "    'padaria': 0.05,\n",
        "    'praia': 0.05,\n",
        "    'farmácia': 0.05\n",
        "}\n",
        "\n",
        "escolha = max(candidatos, key=candidatos.get)\n",
        "\n",
        "frase_final = [escolha if token == '[MASK]' else token for token in frase_mascarada]\n",
        "\n",
        "print('Mascarada:', ' '.join(frase_mascarada))\n",
        "print('Predição:', escolha)\n",
        "print('Final:', ' '.join(frase_final))"
      ]
    },
    {
      "cell_type": "markdown",
      "source": [
        "# GPT – Geração de texto autoregressiva (next word prediction)\n",
        "\n",
        "> Modelo GPT simplificado"
      ],
      "metadata": {
        "id": "k9tFlEGLFkP7"
      }
    },
    {
      "cell_type": "code",
      "source": [
        "import random\n",
        "\n",
        "gpt_simulado = {\n",
        "    'Era': {'uma': 0.8, 'vez': 0.2},\n",
        "    'uma': {'vez': 1.0},\n",
        "    'vez': {'um': 1.0},\n",
        "    'um': {'estudante': 0.1, 'desenvolvedor': 0.4},\n",
        "    'gosta': {'de': 1.0},\n",
        "    'problemas': {'que': 0.4},\n",
        "    'gosta': {'de': 1.0, 'python': 1.0},\n",
        "    'gosta': {'de': 1.0, 'NLP': 1.0}\n",
        "  }\n",
        "\n",
        "def escolher(pesos):\n",
        "  palavras, probras = list(pesos.keys()), list(pesos.values())\n",
        "  return random.choices(palavras, weights=probras)[0]\n",
        "\n",
        "\n",
        "prompt = ['Era']\n",
        "while len(prompt) < 20:\n",
        "  ultima = prompt[-1]\n",
        "  if ultima not in gpt_simulado:\n",
        "    break\n",
        "  nova = escolher(gpt_simulado[ultima])\n",
        "  prompt.append(nova)\n",
        "  if nova == ';':\n",
        "    break\n",
        "\n",
        "\n",
        "print('\\n ✍️ Modelo gerador via GPT')\n",
        "print('Texto gerado por AI:', ' '.join(prompt))"
      ],
      "metadata": {
        "colab": {
          "base_uri": "https://localhost:8080/"
        },
        "id": "CEqFA0kQF9TL",
        "outputId": "f9ef87ce-7dd6-4ecc-b56e-7d6b28cd42e6"
      },
      "execution_count": 13,
      "outputs": [
        {
          "output_type": "stream",
          "name": "stdout",
          "text": [
            "\n",
            " ✍️ Modelo gerador via GPT\n",
            "Texto gerado por AI: Era uma vez um desenvolvedor\n"
          ]
        }
      ]
    },
    {
      "cell_type": "markdown",
      "source": [
        "# Text-to-text Transfer Tranformer (T5)\n",
        "\n",
        "> Modelo T5 simplificado"
      ],
      "metadata": {
        "id": "_8gFndcmNBVg"
      }
    },
    {
      "cell_type": "code",
      "source": [
        "entrada = 'Nunca é demais lembrar o peso e o significado deste problema'\n",
        "\n",
        "def resumir(texto):\n",
        "  palavras = texto.split()\n",
        "  return ' '.join(palavras[:8]) + '...'\n",
        "\n",
        "saida = resumir(entrada.replace('resuma:', '').strip())\n",
        "\n",
        "print('\\nEntrada:', entrada)\n",
        "print('\\nSaída:', saida)"
      ],
      "metadata": {
        "colab": {
          "base_uri": "https://localhost:8080/"
        },
        "id": "FUCiN4LVLEKJ",
        "outputId": "2554be4e-8054-4a72-842a-6a0fed96b67e"
      },
      "execution_count": 16,
      "outputs": [
        {
          "output_type": "stream",
          "name": "stdout",
          "text": [
            "\n",
            "Entrada: Nunca é demais lembrar o peso e o significado deste problema\n",
            "\n",
            "Saída: Nunca é demais lembrar o peso e o...\n"
          ]
        }
      ]
    }
  ]
}